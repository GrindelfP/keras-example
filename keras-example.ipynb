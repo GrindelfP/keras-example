{
 "cells": [
  {
   "cell_type": "code",
   "execution_count": 1,
   "outputs": [],
   "source": [
    "%matplotlib inline"
   ],
   "metadata": {
    "collapsed": false,
    "ExecuteTime": {
     "end_time": "2023-12-05T08:24:15.508641Z",
     "start_time": "2023-12-05T08:24:15.047882Z"
    }
   },
   "id": "660fffafde28fb07"
  },
  {
   "cell_type": "code",
   "execution_count": 2,
   "id": "initial_id",
   "metadata": {
    "collapsed": true,
    "ExecuteTime": {
     "end_time": "2023-12-05T08:24:17.633829Z",
     "start_time": "2023-12-05T08:24:15.491007Z"
    }
   },
   "outputs": [
    {
     "name": "stderr",
     "output_type": "stream",
     "text": [
      "/Users/grindelf/Programming/my/python/keras-example/venv/lib/python3.9/site-packages/urllib3/__init__.py:34: NotOpenSSLWarning: urllib3 v2 only supports OpenSSL 1.1.1+, currently the 'ssl' module is compiled with 'LibreSSL 2.8.3'. See: https://github.com/urllib3/urllib3/issues/3020\n",
      "  warnings.warn(\n"
     ]
    }
   ],
   "source": [
    "import numpy as np\n",
    "from keras import layers\n",
    "from keras import models"
   ]
  },
  {
   "cell_type": "code",
   "execution_count": 3,
   "outputs": [],
   "source": [
    "from keras.datasets import imdb"
   ],
   "metadata": {
    "collapsed": false,
    "ExecuteTime": {
     "end_time": "2023-12-05T08:24:17.638281Z",
     "start_time": "2023-12-05T08:24:17.634840Z"
    }
   },
   "id": "90a77901dbcca136"
  },
  {
   "cell_type": "code",
   "execution_count": 4,
   "outputs": [],
   "source": [
    "(training_data, training_targets), (testing_data, testing_targets) = imdb.load_data(num_words=10000)\n",
    "data = np.concatenate((training_data, testing_data), axis=0)\n",
    "targets = np.concatenate((training_targets, testing_targets), axis=0)"
   ],
   "metadata": {
    "collapsed": false,
    "ExecuteTime": {
     "end_time": "2023-12-05T08:24:19.288610Z",
     "start_time": "2023-12-05T08:24:17.637811Z"
    }
   },
   "id": "d11fda9e824e01e3"
  },
  {
   "cell_type": "code",
   "execution_count": 5,
   "outputs": [
    {
     "name": "stdout",
     "output_type": "stream",
     "text": [
      "Categories: [0 1]\n",
      "Number of unique words: 9998\n"
     ]
    }
   ],
   "source": [
    "print(\"Categories:\", np.unique(targets))\n",
    "print(\"Number of unique words:\", len(np.unique(np.hstack(data))))"
   ],
   "metadata": {
    "collapsed": false,
    "ExecuteTime": {
     "end_time": "2023-12-05T08:24:20.025227Z",
     "start_time": "2023-12-05T08:24:19.290044Z"
    }
   },
   "id": "7810c612703322f2"
  },
  {
   "cell_type": "code",
   "execution_count": 6,
   "outputs": [
    {
     "name": "stdout",
     "output_type": "stream",
     "text": [
      "Average Review length: 234.75892\n",
      "Standard Deviation: 173\n"
     ]
    }
   ],
   "source": [
    "length = [len(i) for i in data]\n",
    "print(\"Average Review length:\", np.mean(length))\n",
    "print(\"Standard Deviation:\", round(np.std(length)))"
   ],
   "metadata": {
    "collapsed": false,
    "ExecuteTime": {
     "end_time": "2023-12-05T08:24:20.030341Z",
     "start_time": "2023-12-05T08:24:20.026391Z"
    }
   },
   "id": "772e00fc89390c6a"
  },
  {
   "cell_type": "code",
   "execution_count": 7,
   "outputs": [
    {
     "name": "stdout",
     "output_type": "stream",
     "text": [
      "Label: 1\n"
     ]
    }
   ],
   "source": [
    "print(\"Label:\", targets[0])"
   ],
   "metadata": {
    "collapsed": false,
    "ExecuteTime": {
     "end_time": "2023-12-05T08:24:20.035580Z",
     "start_time": "2023-12-05T08:24:20.031189Z"
    }
   },
   "id": "25de63dec1ee6ba5"
  },
  {
   "cell_type": "code",
   "execution_count": 8,
   "outputs": [
    {
     "name": "stdout",
     "output_type": "stream",
     "text": [
      "[1, 14, 22, 16, 43, 530, 973, 1622, 1385, 65, 458, 4468, 66, 3941, 4, 173, 36, 256, 5, 25, 100, 43, 838, 112, 50, 670, 2, 9, 35, 480, 284, 5, 150, 4, 172, 112, 167, 2, 336, 385, 39, 4, 172, 4536, 1111, 17, 546, 38, 13, 447, 4, 192, 50, 16, 6, 147, 2025, 19, 14, 22, 4, 1920, 4613, 469, 4, 22, 71, 87, 12, 16, 43, 530, 38, 76, 15, 13, 1247, 4, 22, 17, 515, 17, 12, 16, 626, 18, 2, 5, 62, 386, 12, 8, 316, 8, 106, 5, 4, 2223, 5244, 16, 480, 66, 3785, 33, 4, 130, 12, 16, 38, 619, 5, 25, 124, 51, 36, 135, 48, 25, 1415, 33, 6, 22, 12, 215, 28, 77, 52, 5, 14, 407, 16, 82, 2, 8, 4, 107, 117, 5952, 15, 256, 4, 2, 7, 3766, 5, 723, 36, 71, 43, 530, 476, 26, 400, 317, 46, 7, 4, 2, 1029, 13, 104, 88, 4, 381, 15, 297, 98, 32, 2071, 56, 26, 141, 6, 194, 7486, 18, 4, 226, 22, 21, 134, 476, 26, 480, 5, 144, 30, 5535, 18, 51, 36, 28, 224, 92, 25, 104, 4, 226, 65, 16, 38, 1334, 88, 12, 16, 283, 5, 16, 4472, 113, 103, 32, 15, 16, 5345, 19, 178, 32]\n"
     ]
    }
   ],
   "source": [
    "print(data[0])"
   ],
   "metadata": {
    "collapsed": false,
    "ExecuteTime": {
     "end_time": "2023-12-05T08:24:20.035998Z",
     "start_time": "2023-12-05T08:24:20.033778Z"
    }
   },
   "id": "8e204fcef709bdab"
  },
  {
   "cell_type": "code",
   "execution_count": 9,
   "outputs": [
    {
     "name": "stdout",
     "output_type": "stream",
     "text": [
      "# this film was just brilliant casting location scenery story direction everyone's really suited the part they played and you could just imagine being there robert # is an amazing actor and now the same being director # father came from the same scottish island as myself so i loved the fact there was a real connection with this film the witty remarks throughout the film were great it was just brilliant so much that i bought the film as soon as it was released for # and would recommend it to everyone to watch and the fly fishing was amazing really cried at the end it was so sad and you know what they say if you cry at a film it must have been good and this definitely was also # to the two little boy's that played the # of norman and paul they were just brilliant children are often left out of the # list i think because the stars that play them all grown up are such a big profile for the whole film but these children are amazing and should be praised for what they have done don't you think the whole story was so lovely because it was true and was someone's life after all that was shared with us all\n"
     ]
    }
   ],
   "source": [
    "index = imdb.get_word_index()\n",
    "reverse_index = dict([(value, key) for (key, value) in index.items()])\n",
    "decoded = \" \".join([reverse_index.get(i - 3, \"#\") for i in data[0]])\n",
    "print(decoded)"
   ],
   "metadata": {
    "collapsed": false,
    "ExecuteTime": {
     "end_time": "2023-12-05T08:24:20.083549Z",
     "start_time": "2023-12-05T08:24:20.036962Z"
    }
   },
   "id": "d5fe57a962f600e6"
  },
  {
   "cell_type": "code",
   "execution_count": 10,
   "outputs": [],
   "source": [
    "def vectorize(sequences, dimension=10000):\n",
    "    results = np.zeros((len(sequences), dimension))\n",
    "    for i, sequence in enumerate(sequences):\n",
    "        results[i, sequence] = 1\n",
    "\n",
    "    return results"
   ],
   "metadata": {
    "collapsed": false,
    "ExecuteTime": {
     "end_time": "2023-12-05T08:24:20.087206Z",
     "start_time": "2023-12-05T08:24:20.082565Z"
    }
   },
   "id": "88b5fdb7f6b47092"
  },
  {
   "cell_type": "code",
   "execution_count": 11,
   "outputs": [],
   "source": [
    "data = vectorize(data)\n",
    "targets = np.array(targets).astype(\"float32\")"
   ],
   "metadata": {
    "collapsed": false,
    "ExecuteTime": {
     "end_time": "2023-12-05T08:24:20.871884Z",
     "start_time": "2023-12-05T08:24:20.085145Z"
    }
   },
   "id": "bdebf965ea565a63"
  },
  {
   "cell_type": "code",
   "execution_count": 12,
   "outputs": [],
   "source": [
    "test_x = data[:10000]\n",
    "test_y = targets[:10000]"
   ],
   "metadata": {
    "collapsed": false,
    "ExecuteTime": {
     "end_time": "2023-12-05T08:24:20.875837Z",
     "start_time": "2023-12-05T08:24:20.870636Z"
    }
   },
   "id": "efaf770713965485"
  },
  {
   "cell_type": "code",
   "execution_count": 13,
   "outputs": [],
   "source": [
    "train_x = data[10000:]\n",
    "train_y = targets[10000:]"
   ],
   "metadata": {
    "collapsed": false,
    "ExecuteTime": {
     "end_time": "2023-12-05T08:24:20.876044Z",
     "start_time": "2023-12-05T08:24:20.873972Z"
    }
   },
   "id": "880c144bf069b6ff"
  },
  {
   "cell_type": "code",
   "execution_count": 14,
   "outputs": [],
   "source": [
    "model = models.Sequential()\n",
    "# Input - Layer\n",
    "model.add(layers.Dense(50, activation=\"relu\", input_shape=(10000,)))"
   ],
   "metadata": {
    "collapsed": false,
    "ExecuteTime": {
     "end_time": "2023-12-05T08:24:20.916197Z",
     "start_time": "2023-12-05T08:24:20.879930Z"
    }
   },
   "id": "f2be0aab05af0218"
  },
  {
   "cell_type": "code",
   "execution_count": 15,
   "outputs": [],
   "source": [
    "# Hidden - Layers\n",
    "model.add(layers.Dropout(0.3, noise_shape=None, seed=None))\n",
    "model.add(layers.Dense(50, activation=\"relu\"))\n",
    "model.add(layers.Dropout(0.2, noise_shape=None, seed=None))\n",
    "model.add(layers.Dense(50, activation=\"relu\"))"
   ],
   "metadata": {
    "collapsed": false,
    "ExecuteTime": {
     "end_time": "2023-12-05T08:24:20.952428Z",
     "start_time": "2023-12-05T08:24:20.920508Z"
    }
   },
   "id": "f74bc51d9a2d34e7"
  },
  {
   "cell_type": "code",
   "execution_count": 16,
   "outputs": [
    {
     "name": "stdout",
     "output_type": "stream",
     "text": [
      "Model: \"sequential\"\n",
      "_________________________________________________________________\n",
      " Layer (type)                Output Shape              Param #   \n",
      "=================================================================\n",
      " dense (Dense)               (None, 50)                500050    \n",
      "                                                                 \n",
      " dropout (Dropout)           (None, 50)                0         \n",
      "                                                                 \n",
      " dense_1 (Dense)             (None, 50)                2550      \n",
      "                                                                 \n",
      " dropout_1 (Dropout)         (None, 50)                0         \n",
      "                                                                 \n",
      " dense_2 (Dense)             (None, 50)                2550      \n",
      "                                                                 \n",
      " dense_3 (Dense)             (None, 1)                 51        \n",
      "                                                                 \n",
      "=================================================================\n",
      "Total params: 505201 (1.93 MB)\n",
      "Trainable params: 505201 (1.93 MB)\n",
      "Non-trainable params: 0 (0.00 Byte)\n",
      "_________________________________________________________________\n"
     ]
    }
   ],
   "source": [
    "# Output- Layer\n",
    "model.add(layers.Dense(1, activation=\"sigmoid\"))\n",
    "model.summary()"
   ],
   "metadata": {
    "collapsed": false,
    "ExecuteTime": {
     "end_time": "2023-12-05T08:24:20.956078Z",
     "start_time": "2023-12-05T08:24:20.947353Z"
    }
   },
   "id": "33149fec55c1d720"
  },
  {
   "cell_type": "code",
   "execution_count": 17,
   "outputs": [],
   "source": [
    "model.compile(\n",
    "    optimizer=\"adam\",\n",
    "    loss=\"binary_crossentropy\",\n",
    "    metrics=[\"accuracy\"]\n",
    ")"
   ],
   "metadata": {
    "collapsed": false,
    "ExecuteTime": {
     "end_time": "2023-12-05T08:24:20.966950Z",
     "start_time": "2023-12-05T08:24:20.959774Z"
    }
   },
   "id": "46ad76f5bbc7cb7b"
  },
  {
   "cell_type": "code",
   "execution_count": 27,
   "outputs": [
    {
     "name": "stdout",
     "output_type": "stream",
     "text": [
      "Epoch 1/10\n",
      "80/80 [==============================] - 1s 12ms/step - loss: 0.0133 - accuracy: 0.9953 - val_loss: 0.7648 - val_accuracy: 0.8774\n",
      "Epoch 2/10\n",
      "80/80 [==============================] - 1s 8ms/step - loss: 0.0142 - accuracy: 0.9950 - val_loss: 0.7535 - val_accuracy: 0.8769\n",
      "Epoch 3/10\n",
      "80/80 [==============================] - 1s 8ms/step - loss: 0.0138 - accuracy: 0.9947 - val_loss: 0.7798 - val_accuracy: 0.8807\n",
      "Epoch 4/10\n",
      "80/80 [==============================] - 1s 8ms/step - loss: 0.0135 - accuracy: 0.9951 - val_loss: 0.7626 - val_accuracy: 0.8759\n",
      "Epoch 5/10\n",
      "80/80 [==============================] - 1s 8ms/step - loss: 0.0144 - accuracy: 0.9949 - val_loss: 0.8076 - val_accuracy: 0.8809\n",
      "Epoch 6/10\n",
      "80/80 [==============================] - 1s 8ms/step - loss: 0.0108 - accuracy: 0.9962 - val_loss: 0.7849 - val_accuracy: 0.8786\n",
      "Epoch 7/10\n",
      "80/80 [==============================] - 1s 8ms/step - loss: 0.0110 - accuracy: 0.9961 - val_loss: 0.7783 - val_accuracy: 0.8788\n",
      "Epoch 8/10\n",
      "80/80 [==============================] - 1s 8ms/step - loss: 0.0125 - accuracy: 0.9953 - val_loss: 0.7699 - val_accuracy: 0.8785\n",
      "Epoch 9/10\n",
      "80/80 [==============================] - 1s 8ms/step - loss: 0.0122 - accuracy: 0.9957 - val_loss: 0.7536 - val_accuracy: 0.8790\n",
      "Epoch 10/10\n",
      "80/80 [==============================] - 1s 8ms/step - loss: 0.0111 - accuracy: 0.9961 - val_loss: 0.8219 - val_accuracy: 0.8799\n"
     ]
    }
   ],
   "source": [
    "results = model.fit(\n",
    "    train_x, train_y,\n",
    "    epochs=10,\n",
    "    batch_size=500,\n",
    "    validation_data=(test_x, test_y)\n",
    ")"
   ],
   "metadata": {
    "collapsed": false,
    "ExecuteTime": {
     "end_time": "2023-12-05T08:37:52.095599Z",
     "start_time": "2023-12-05T08:37:42.697289Z"
    }
   },
   "id": "573f89fd71ee367e"
  },
  {
   "cell_type": "code",
   "execution_count": 28,
   "outputs": [
    {
     "name": "stdout",
     "output_type": "stream",
     "text": [
      "Test-Accuracy: 0.8786599934101105\n"
     ]
    }
   ],
   "source": [
    "print(\"Test-Accuracy:\", np.mean(results.history[\"val_accuracy\"]))"
   ],
   "metadata": {
    "collapsed": false,
    "ExecuteTime": {
     "end_time": "2023-12-05T08:37:57.214847Z",
     "start_time": "2023-12-05T08:37:57.188315Z"
    }
   },
   "id": "9eecbec9b9f48eb9"
  }
 ],
 "metadata": {
  "kernelspec": {
   "display_name": "Python 3",
   "language": "python",
   "name": "python3"
  },
  "language_info": {
   "codemirror_mode": {
    "name": "ipython",
    "version": 2
   },
   "file_extension": ".py",
   "mimetype": "text/x-python",
   "name": "python",
   "nbconvert_exporter": "python",
   "pygments_lexer": "ipython2",
   "version": "2.7.6"
  }
 },
 "nbformat": 4,
 "nbformat_minor": 5
}
